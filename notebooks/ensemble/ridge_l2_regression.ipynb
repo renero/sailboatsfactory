{
 "cells": [
  {
   "cell_type": "markdown",
   "metadata": {},
   "source": [
    "# Predicting actual in predictions"
   ]
  },
  {
   "cell_type": "markdown",
   "metadata": {},
   "source": [
    "### Notebook automatically generated from your model"
   ]
  },
  {
   "cell_type": "markdown",
   "metadata": {},
   "source": [
    "Model Ridge (L2) regression, trained on 2018-11-04 10:47:55."
   ]
  },
  {
   "cell_type": "markdown",
   "metadata": {},
   "source": [
    "#### Generated on 2018-11-04 09:50:45.283756"
   ]
  },
  {
   "cell_type": "markdown",
   "metadata": {},
   "source": [
    "prediction\n",
    "This notebook will reproduce the steps for a REGRESSION on  predictions.\n",
    "The main objective is to predict the variable actual"
   ]
  },
  {
   "cell_type": "markdown",
   "metadata": {},
   "source": [
    "Let's start with importing the required libs :"
   ]
  },
  {
   "cell_type": "code",
   "execution_count": 1,
   "metadata": {
    "collapsed": false
   },
   "outputs": [
    {
     "name": "stderr",
     "output_type": "stream",
     "text": [
      "/Applications/DataScienceStudio.app/Contents/Resources/kit/python.packages/sklearn/cross_validation.py:44: DeprecationWarning: This module was deprecated in version 0.18 in favor of the model_selection module into which all the refactored classes and functions are moved. Also note that the interface of the new CV iterators are different from that of this module. This module will be removed in 0.20.\n",
      "  \"This module will be removed in 0.20.\", DeprecationWarning)\n"
     ]
    }
   ],
   "source": [
    "import dataiku\n",
    "import numpy as np\n",
    "import pandas as pd\n",
    "import sklearn as sk\n",
    "import dataiku.core.pandasutils as pdu\n",
    "from dataiku.doctor.preprocessing import PCA\n",
    "from collections import defaultdict, Counter"
   ]
  },
  {
   "cell_type": "markdown",
   "metadata": {},
   "source": [
    "And tune pandas display options:"
   ]
  },
  {
   "cell_type": "code",
   "execution_count": 2,
   "metadata": {
    "collapsed": false
   },
   "outputs": [],
   "source": [
    "pd.set_option('display.width', 3000)\n",
    "pd.set_option('display.max_rows', 200)\n",
    "pd.set_option('display.max_columns', 200)"
   ]
  },
  {
   "cell_type": "markdown",
   "metadata": {},
   "source": [
    "#### Importing base data"
   ]
  },
  {
   "cell_type": "markdown",
   "metadata": {},
   "source": [
    "The first step is to get our machine learning dataset:"
   ]
  },
  {
   "cell_type": "code",
   "execution_count": 3,
   "metadata": {
    "collapsed": false
   },
   "outputs": [
    {
     "name": "stdout",
     "output_type": "stream",
     "text": [
      "CPU times: user 18 ms, sys: 7.71 ms, total: 25.7 ms\n",
      "Wall time: 97.3 ms\n",
      "Base data has 500 rows and 14 columns\n"
     ]
    },
    {
     "data": {
      "text/html": [
       "\n",
       "            <button style=\"display:none\" \n",
       "            class=\"btn btn-default ipython-export-btn\" \n",
       "            id=\"btn-df-be926a9b-4a48-4498-b4a1-0d2650b416a0\" \n",
       "            onclick=\"_export_df('be926a9b-4a48-4498-b4a1-0d2650b416a0')\">\n",
       "                Export dataframe\n",
       "            </button>\n",
       "            \n",
       "            <script>\n",
       "                \n",
       "                function _check_export_df_possible(dfid,yes_fn,no_fn) {\n",
       "                    console.log('Checking dataframe exportability...')\n",
       "                    if(!IPython || !IPython.notebook || !IPython.notebook.kernel || !IPython.notebook.kernel) {\n",
       "                        console.log('Export is not possible (IPython kernel is not available)')\n",
       "                        if(no_fn) {\n",
       "                            no_fn();\n",
       "                        }\n",
       "                    } else {\n",
       "                        var pythonCode = 'from dataiku.notebook.export import IPythonExporter;IPythonExporter._check_export_stdout(\"'+dfid+'\")';\n",
       "                        IPython.notebook.kernel.execute(pythonCode,{iopub: {output: function(resp) {\n",
       "                            console.info(\"Exportability response\", resp);\n",
       "                            var size = /^([0-9]+)x([0-9]+)$/.exec(resp.content.data || resp.content.text)\n",
       "                            if(!size) {\n",
       "                                console.log('Export is not possible (dataframe is not in-memory anymore)')\n",
       "                                if(no_fn) {\n",
       "                                    no_fn();\n",
       "                                }\n",
       "                            } else {\n",
       "                                console.log('Export is possible')\n",
       "                                if(yes_fn) {\n",
       "                                    yes_fn(1*size[1],1*size[2]);\n",
       "                                }\n",
       "                            }\n",
       "                        }}});\n",
       "                    }\n",
       "                }\n",
       "            \n",
       "                function _export_df(dfid) {\n",
       "                    \n",
       "                    var btn = $('#btn-df-'+dfid);\n",
       "                    var btns = $('.ipython-export-btn');\n",
       "                    \n",
       "                    _check_export_df_possible(dfid,function() {\n",
       "                        \n",
       "                        window.parent.openExportModalFromIPython('Pandas dataframe',function(data) {\n",
       "                            btns.prop('disabled',true);\n",
       "                            btn.text('Exporting...');\n",
       "                            var command = 'from dataiku.notebook.export import IPythonExporter;IPythonExporter._run_export(\"'+dfid+'\",\"'+data.exportId+'\")';\n",
       "                            var callback = {iopub:{output: function(resp) {\n",
       "                                _check_export_df_possible(dfid,function(rows, cols) {\n",
       "                                    $('#btn-df-'+dfid)\n",
       "                                        .css('display','inline-block')\n",
       "                                        .text('Export this dataframe ('+rows+' rows, '+cols+' cols)')\n",
       "                                        .prop('disabled',false);\n",
       "                                },function() {\n",
       "                                    $('#btn-df-'+dfid).css('display','none');\n",
       "                                });\n",
       "                            }}};\n",
       "                            IPython.notebook.kernel.execute(command,callback,{silent:false}); // yes, silent now defaults to true. figures.\n",
       "                        });\n",
       "                    \n",
       "                    }, function(){\n",
       "                            alert('Unable to export : the Dataframe object is not loaded in memory');\n",
       "                            btn.css('display','none');\n",
       "                    });\n",
       "                    \n",
       "                }\n",
       "                \n",
       "                (function(dfid) {\n",
       "                \n",
       "                    var retryCount = 10;\n",
       "                \n",
       "                    function is_valid_websock(s) {\n",
       "                        return s && s.readyState==1;\n",
       "                    }\n",
       "                \n",
       "                    function check_conn() {\n",
       "                        \n",
       "                        if(!IPython || !IPython.notebook) {\n",
       "                            // Don't even try to go further\n",
       "                            return;\n",
       "                        }\n",
       "                        \n",
       "                        // Check if IPython is ready\n",
       "                        console.info(\"Checking conn ...\")\n",
       "                        if(IPython.notebook.kernel\n",
       "                        && IPython.notebook.kernel\n",
       "                        && is_valid_websock(IPython.notebook.kernel.ws)\n",
       "                        ) {\n",
       "                            \n",
       "                            _check_export_df_possible(dfid,function(rows, cols) {\n",
       "                                $('#btn-df-'+dfid).css('display','inline-block');\n",
       "                                $('#btn-df-'+dfid).text('Export this dataframe ('+rows+' rows, '+cols+' cols)');\n",
       "                            });\n",
       "                            \n",
       "                        } else {\n",
       "                            console.info(\"Conditions are not ok\", IPython.notebook.kernel);\n",
       "                            \n",
       "                            // Retry later\n",
       "                            \n",
       "                            if(retryCount>0) {\n",
       "                                setTimeout(check_conn,500);\n",
       "                                retryCount--;\n",
       "                            }\n",
       "                            \n",
       "                        }\n",
       "                    };\n",
       "                    \n",
       "                    setTimeout(check_conn,100);\n",
       "                    \n",
       "                })(\"be926a9b-4a48-4498-b4a1-0d2650b416a0\");\n",
       "                \n",
       "            </script>\n",
       "            \n",
       "        <div>\n",
       "<table border=\"1\" class=\"dataframe\">\n",
       "  <thead>\n",
       "    <tr style=\"text-align: right;\">\n",
       "      <th></th>\n",
       "      <th>1yw3</th>\n",
       "      <th>1yw7</th>\n",
       "      <th>1yw10</th>\n",
       "      <th>5yw3</th>\n",
       "      <th>5yw7</th>\n",
       "      <th>5yw10</th>\n",
       "      <th>10yw3</th>\n",
       "      <th>10yw7</th>\n",
       "      <th>actual</th>\n",
       "      <th>avg</th>\n",
       "      <th>avg_diff</th>\n",
       "      <th>median</th>\n",
       "      <th>med_diff</th>\n",
       "      <th>winner</th>\n",
       "    </tr>\n",
       "  </thead>\n",
       "  <tbody>\n",
       "    <tr>\n",
       "      <th>0</th>\n",
       "      <td>0.669609</td>\n",
       "      <td>0.670776</td>\n",
       "      <td>0.671797</td>\n",
       "      <td>0.669609</td>\n",
       "      <td>0.665964</td>\n",
       "      <td>0.670193</td>\n",
       "      <td>0.666110</td>\n",
       "      <td>0.668735</td>\n",
       "      <td>0.680276</td>\n",
       "      <td>0.669099</td>\n",
       "      <td>0.011177</td>\n",
       "      <td>0.669609</td>\n",
       "      <td>0.010667</td>\n",
       "      <td>1yw10</td>\n",
       "    </tr>\n",
       "    <tr>\n",
       "      <th>1</th>\n",
       "      <td>0.722400</td>\n",
       "      <td>0.726330</td>\n",
       "      <td>0.726330</td>\n",
       "      <td>0.726330</td>\n",
       "      <td>0.721685</td>\n",
       "      <td>0.727402</td>\n",
       "      <td>0.726687</td>\n",
       "      <td>0.723114</td>\n",
       "      <td>0.722522</td>\n",
       "      <td>0.725035</td>\n",
       "      <td>0.002513</td>\n",
       "      <td>0.726330</td>\n",
       "      <td>0.003808</td>\n",
       "      <td>1yw3</td>\n",
       "    </tr>\n",
       "    <tr>\n",
       "      <th>2</th>\n",
       "      <td>0.805926</td>\n",
       "      <td>0.805926</td>\n",
       "      <td>0.800715</td>\n",
       "      <td>0.805318</td>\n",
       "      <td>0.806621</td>\n",
       "      <td>0.803668</td>\n",
       "      <td>0.806100</td>\n",
       "      <td>0.805058</td>\n",
       "      <td>0.805340</td>\n",
       "      <td>0.804916</td>\n",
       "      <td>0.000423</td>\n",
       "      <td>0.805318</td>\n",
       "      <td>0.000022</td>\n",
       "      <td>5yw3</td>\n",
       "    </tr>\n",
       "    <tr>\n",
       "      <th>3</th>\n",
       "      <td>0.368011</td>\n",
       "      <td>0.370196</td>\n",
       "      <td>0.369034</td>\n",
       "      <td>0.368708</td>\n",
       "      <td>0.370707</td>\n",
       "      <td>0.367686</td>\n",
       "      <td>0.369963</td>\n",
       "      <td>0.369638</td>\n",
       "      <td>0.366431</td>\n",
       "      <td>0.369243</td>\n",
       "      <td>0.002812</td>\n",
       "      <td>0.369243</td>\n",
       "      <td>0.002812</td>\n",
       "      <td>5yw10</td>\n",
       "    </tr>\n",
       "    <tr>\n",
       "      <th>4</th>\n",
       "      <td>0.800756</td>\n",
       "      <td>0.805087</td>\n",
       "      <td>0.805706</td>\n",
       "      <td>0.806943</td>\n",
       "      <td>0.806325</td>\n",
       "      <td>0.798282</td>\n",
       "      <td>0.805706</td>\n",
       "      <td>0.806943</td>\n",
       "      <td>0.788609</td>\n",
       "      <td>0.804469</td>\n",
       "      <td>0.015860</td>\n",
       "      <td>0.805706</td>\n",
       "      <td>0.017097</td>\n",
       "      <td>5yw10</td>\n",
       "    </tr>\n",
       "  </tbody>\n",
       "</table>\n",
       "</div>"
      ],
      "text/plain": [
       "       1yw3      1yw7     1yw10      5yw3      5yw7     5yw10     10yw3     10yw7    actual       avg  avg_diff    median  med_diff winner\n",
       "0  0.669609  0.670776  0.671797  0.669609  0.665964  0.670193  0.666110  0.668735  0.680276  0.669099  0.011177  0.669609  0.010667  1yw10\n",
       "1  0.722400  0.726330  0.726330  0.726330  0.721685  0.727402  0.726687  0.723114  0.722522  0.725035  0.002513  0.726330  0.003808   1yw3\n",
       "2  0.805926  0.805926  0.800715  0.805318  0.806621  0.803668  0.806100  0.805058  0.805340  0.804916  0.000423  0.805318  0.000022   5yw3\n",
       "3  0.368011  0.370196  0.369034  0.368708  0.370707  0.367686  0.369963  0.369638  0.366431  0.369243  0.002812  0.369243  0.002812  5yw10\n",
       "4  0.800756  0.805087  0.805706  0.806943  0.806325  0.798282  0.805706  0.806943  0.788609  0.804469  0.015860  0.805706  0.017097  5yw10"
      ]
     },
     "execution_count": 3,
     "metadata": {},
     "output_type": "execute_result"
    }
   ],
   "source": [
    "# We apply the preparation that you defined. You should not modify this.\n",
    "preparation_steps = []\n",
    "preparation_output_schema = {u'userModified': False, u'columns': [{u'timestampNoTzAsDate': False, u'type': u'double', u'name': u'1yw3', u'maxLength': -1}, {u'timestampNoTzAsDate': False, u'type': u'double', u'name': u'1yw7', u'maxLength': -1}, {u'timestampNoTzAsDate': False, u'type': u'double', u'name': u'1yw10', u'maxLength': -1}, {u'timestampNoTzAsDate': False, u'type': u'double', u'name': u'5yw3', u'maxLength': -1}, {u'timestampNoTzAsDate': False, u'type': u'double', u'name': u'5yw7', u'maxLength': -1}, {u'timestampNoTzAsDate': False, u'type': u'double', u'name': u'5yw10', u'maxLength': -1}, {u'timestampNoTzAsDate': False, u'type': u'double', u'name': u'10yw3', u'maxLength': -1}, {u'timestampNoTzAsDate': False, u'type': u'double', u'name': u'10yw7', u'maxLength': -1}, {u'timestampNoTzAsDate': False, u'type': u'double', u'name': u'actual', u'maxLength': -1}, {u'timestampNoTzAsDate': False, u'type': u'double', u'name': u'avg', u'maxLength': -1}, {u'timestampNoTzAsDate': False, u'type': u'double', u'name': u'avg_diff', u'maxLength': -1}, {u'timestampNoTzAsDate': False, u'type': u'double', u'name': u'median', u'maxLength': -1}, {u'timestampNoTzAsDate': False, u'type': u'double', u'name': u'med_diff', u'maxLength': -1}, {u'timestampNoTzAsDate': False, u'type': u'string', u'name': u'winner', u'maxLength': -1}]}\n",
    "\n",
    "ml_dataset_handle = dataiku.Dataset('predictions')\n",
    "ml_dataset_handle.set_preparation_steps(preparation_steps, preparation_output_schema)\n",
    "%time ml_dataset = ml_dataset_handle.get_dataframe(limit = 100000)\n",
    "\n",
    "print 'Base data has %i rows and %i columns' % (ml_dataset.shape[0], ml_dataset.shape[1])\n",
    "# Five first records\",\n",
    "ml_dataset.head(5)"
   ]
  },
  {
   "cell_type": "markdown",
   "metadata": {},
   "source": [
    "#### Initial data management"
   ]
  },
  {
   "cell_type": "markdown",
   "metadata": {},
   "source": [
    "The preprocessing aims at making the dataset compatible with modeling.\n",
    "At the end of this step, we will have a matrix of float numbers, with no missing values.\n",
    "We'll use the features and the preprocessing steps defined in Models.\n",
    "\n",
    "Let's only keep selected features"
   ]
  },
  {
   "cell_type": "code",
   "execution_count": 4,
   "metadata": {
    "collapsed": false
   },
   "outputs": [],
   "source": [
    "ml_dataset = ml_dataset[[u'actual', u'10yw7', u'1yw7', u'1yw3', u'1yw10', u'median', u'5yw10', u'10yw3', u'5yw3', u'avg', u'5yw7']]"
   ]
  },
  {
   "cell_type": "markdown",
   "metadata": {},
   "source": [
    "Let's first coerce categorical columns into unicode, numerical features into floats."
   ]
  },
  {
   "cell_type": "code",
   "execution_count": 5,
   "metadata": {
    "collapsed": false
   },
   "outputs": [],
   "source": [
    "# astype('unicode') does not work as expected\n",
    "def coerce_to_unicode(x):\n",
    "    if isinstance(x, str):\n",
    "        return unicode(x,'utf-8')\n",
    "    else:\n",
    "        return unicode(x)\n",
    "\n",
    "categorical_features = []\n",
    "numerical_features = [u'10yw7', u'1yw7', u'1yw3', u'1yw10', u'median', u'5yw10', u'10yw3', u'5yw3', u'avg', u'5yw7']\n",
    "text_features = []\n",
    "from dataiku.doctor.utils import datetime_to_epoch\n",
    "for feature in categorical_features:\n",
    "    ml_dataset[feature] = ml_dataset[feature].apply(coerce_to_unicode)\n",
    "for feature in text_features:\n",
    "    ml_dataset[feature] = ml_dataset[feature].apply(coerce_to_unicode)\n",
    "for feature in numerical_features:\n",
    "    if ml_dataset[feature].dtype == np.dtype('M8[ns]'):\n",
    "        ml_dataset[feature] = datetime_to_epoch(ml_dataset[feature])\n",
    "    else:\n",
    "        ml_dataset[feature] = ml_dataset[feature].astype('double')"
   ]
  },
  {
   "cell_type": "markdown",
   "metadata": {},
   "source": [
    "We renamed the target variable to a column named target"
   ]
  },
  {
   "cell_type": "code",
   "execution_count": 6,
   "metadata": {
    "collapsed": false
   },
   "outputs": [],
   "source": [
    "ml_dataset['__target__'] = ml_dataset['actual']\n",
    "del ml_dataset['actual']\n",
    "\n",
    "\n",
    "# Remove rows for which the target is unknown.\n",
    "ml_dataset = ml_dataset[~ml_dataset['__target__'].isnull()]"
   ]
  },
  {
   "cell_type": "markdown",
   "metadata": {},
   "source": [
    "#### Cross-validation strategy"
   ]
  },
  {
   "cell_type": "markdown",
   "metadata": {},
   "source": [
    "The dataset needs to be split into 2 new sets, one that will be used for training the model (train set)\n",
    "and another that will be used to test its generalization capability (test set)"
   ]
  },
  {
   "cell_type": "markdown",
   "metadata": {},
   "source": [
    "This is a simple cross-validation strategy."
   ]
  },
  {
   "cell_type": "code",
   "execution_count": 7,
   "metadata": {
    "collapsed": false
   },
   "outputs": [
    {
     "name": "stdout",
     "output_type": "stream",
     "text": [
      "Train data has 400 rows and 11 columns\n",
      "Test data has 100 rows and 11 columns\n"
     ]
    }
   ],
   "source": [
    "train, test = pdu.split_train_valid(ml_dataset, prop=0.8)\n",
    "print 'Train data has %i rows and %i columns' % (train.shape[0], train.shape[1])\n",
    "print 'Test data has %i rows and %i columns' % (test.shape[0], test.shape[1])"
   ]
  },
  {
   "cell_type": "markdown",
   "metadata": {},
   "source": [
    "#### Features preprocessing"
   ]
  },
  {
   "cell_type": "markdown",
   "metadata": {},
   "source": [
    "The first thing to do at the features level is to handle the missing values.\n",
    "Let's reuse the settings defined in the model"
   ]
  },
  {
   "cell_type": "code",
   "execution_count": 8,
   "metadata": {
    "collapsed": false
   },
   "outputs": [
    {
     "name": "stdout",
     "output_type": "stream",
     "text": [
      "Imputed missing values in feature 10yw7 with value 0.550971770141\n",
      "Imputed missing values in feature 1yw7 with value 0.551296511189\n",
      "Imputed missing values in feature 1yw3 with value 0.551053258761\n",
      "Imputed missing values in feature 1yw10 with value 0.551124167809\n",
      "Imputed missing values in feature median with value 0.550979612323\n",
      "Imputed missing values in feature 5yw10 with value 0.55079613939\n",
      "Imputed missing values in feature 10yw3 with value 0.550187389622\n",
      "Imputed missing values in feature 5yw3 with value 0.551075836838\n",
      "Imputed missing values in feature avg with value 0.550879165765"
     ]
    },
    {
     "name": "stderr",
     "output_type": "stream",
     "text": [
      "/Applications/DataScienceStudio.app/Contents/Resources/kit/python.packages/ipykernel/__main__.py:23: SettingWithCopyWarning: \n",
      "A value is trying to be set on a copy of a slice from a DataFrame.\n",
      "Try using .loc[row_indexer,col_indexer] = value instead\n",
      "\n",
      "See the caveats in the documentation: http://pandas.pydata.org/pandas-docs/stable/indexing.html#indexing-view-versus-copy\n"
     ]
    },
    {
     "name": "stdout",
     "output_type": "stream",
     "text": [
      "\n",
      "Imputed missing values in feature 5yw7 with value 0.55052825237\n"
     ]
    }
   ],
   "source": [
    "drop_rows_when_missing = []\n",
    "impute_when_missing = [{'impute_with': u'MEAN', 'feature': u'10yw7'}, {'impute_with': u'MEAN', 'feature': u'1yw7'}, {'impute_with': u'MEAN', 'feature': u'1yw3'}, {'impute_with': u'MEAN', 'feature': u'1yw10'}, {'impute_with': u'MEAN', 'feature': u'median'}, {'impute_with': u'MEAN', 'feature': u'5yw10'}, {'impute_with': u'MEAN', 'feature': u'10yw3'}, {'impute_with': u'MEAN', 'feature': u'5yw3'}, {'impute_with': u'MEAN', 'feature': u'avg'}, {'impute_with': u'MEAN', 'feature': u'5yw7'}]\n",
    "\n",
    "# Features for which we drop rows with missing values\"\n",
    "for feature in drop_rows_when_missing:\n",
    "    train = train[train[feature].notnull()]\n",
    "    test = test[test[feature].notnull()]\n",
    "    print 'Dropped missing records in %s' % feature\n",
    "\n",
    "# Features for which we impute missing values\"\n",
    "for feature in impute_when_missing:\n",
    "    if feature['impute_with'] == 'MEAN':\n",
    "        v = train[feature['feature']].mean()\n",
    "    elif feature['impute_with'] == 'MEDIAN':\n",
    "        v = train[feature['feature']].median()\n",
    "    elif feature['impute_with'] == 'CREATE_CATEGORY':\n",
    "        v = 'NULL_CATEGORY'\n",
    "    elif feature['impute_with'] == 'MODE':\n",
    "        v = train[feature['feature']].value_counts().index[0]\n",
    "    elif feature['impute_with'] == 'CONSTANT':\n",
    "        v = feature['value']\n",
    "    train[feature['feature']] = train[feature['feature']].fillna(v)\n",
    "    test[feature['feature']] = test[feature['feature']].fillna(v)\n",
    "    print 'Imputed missing values in feature %s with value %s' % (feature['feature'], unicode(str(v), 'utf8'))"
   ]
  },
  {
   "cell_type": "markdown",
   "metadata": {},
   "source": [
    "We can now handle the categorical features (still using the settings defined in Models):"
   ]
  },
  {
   "cell_type": "markdown",
   "metadata": {},
   "source": [
    "Let's rescale numerical features"
   ]
  },
  {
   "cell_type": "code",
   "execution_count": 9,
   "metadata": {
    "collapsed": false
   },
   "outputs": [
    {
     "name": "stdout",
     "output_type": "stream",
     "text": [
      "Rescaled 5yw3\n",
      "Rescaled 10yw3\n",
      "Rescaled avg\n",
      "Rescaled 10yw7\n",
      "Rescaled 1yw7\n",
      "Rescaled median\n",
      "Rescaled 1yw10\n",
      "Rescaled 1yw3\n"
     ]
    },
    {
     "name": "stderr",
     "output_type": "stream",
     "text": [
      "/Applications/DataScienceStudio.app/Contents/Resources/kit/python.packages/ipykernel/__main__.py:18: SettingWithCopyWarning: \n",
      "A value is trying to be set on a copy of a slice from a DataFrame.\n",
      "Try using .loc[row_indexer,col_indexer] = value instead\n",
      "\n",
      "See the caveats in the documentation: http://pandas.pydata.org/pandas-docs/stable/indexing.html#indexing-view-versus-copy\n"
     ]
    },
    {
     "name": "stdout",
     "output_type": "stream",
     "text": [
      "Rescaled 5yw7\n",
      "Rescaled 5yw10\n"
     ]
    }
   ],
   "source": [
    "rescale_features = {u'10yw3': u'AVGSTD', u'10yw7': u'AVGSTD', u'1yw7': u'AVGSTD', u'1yw3': u'AVGSTD', u'1yw10': u'AVGSTD', u'median': u'AVGSTD', u'5yw10': u'AVGSTD', u'5yw3': u'AVGSTD', u'avg': u'AVGSTD', u'5yw7': u'AVGSTD'}\n",
    "for (feature_name, rescale_method) in rescale_features.items():\n",
    "    if rescale_method == 'MINMAX':\n",
    "        _min = train[feature_name].min()\n",
    "        _max = train[feature_name].max()\n",
    "        scale = _max - _min\n",
    "        shift = _min\n",
    "    else:\n",
    "        shift = train[feature_name].mean()\n",
    "        scale = train[feature_name].std()\n",
    "    if scale == 0.:\n",
    "        del train[feature_name]\n",
    "        del test[feature_name]\n",
    "        print 'Feature %s was dropped because it has no variance' % feature_name\n",
    "    else:\n",
    "        print 'Rescaled %s' % feature_name\n",
    "        train[feature_name] = (train[feature_name] - shift).astype(np.float64) / scale\n",
    "        test[feature_name] = (test[feature_name] - shift).astype(np.float64) / scale"
   ]
  },
  {
   "cell_type": "markdown",
   "metadata": {},
   "source": [
    "#### Modeling"
   ]
  },
  {
   "cell_type": "markdown",
   "metadata": {},
   "source": [
    "Before actually creating our model, we need to split the datasets into their features and labels parts:"
   ]
  },
  {
   "cell_type": "code",
   "execution_count": 10,
   "metadata": {
    "collapsed": false
   },
   "outputs": [],
   "source": [
    "train_X = train.drop('__target__', axis=1)\n",
    "test_X = test.drop('__target__', axis=1)\n",
    "\n",
    "train_Y = np.array(train['__target__'])\n",
    "test_Y = np.array(test['__target__'])"
   ]
  },
  {
   "cell_type": "markdown",
   "metadata": {},
   "source": [
    "Now we can finally create our model !"
   ]
  },
  {
   "cell_type": "code",
   "execution_count": 11,
   "metadata": {
    "collapsed": false
   },
   "outputs": [],
   "source": [
    "from sklearn.linear_model import RidgeCV\n",
    "clf = RidgeCV(fit_intercept=True, normalize=True)"
   ]
  },
  {
   "cell_type": "markdown",
   "metadata": {},
   "source": [
    "... And train it"
   ]
  },
  {
   "cell_type": "code",
   "execution_count": 12,
   "metadata": {
    "collapsed": false
   },
   "outputs": [
    {
     "name": "stdout",
     "output_type": "stream",
     "text": [
      "CPU times: user 2.91 ms, sys: 1.52 ms, total: 4.42 ms\n",
      "Wall time: 3.42 ms\n"
     ]
    },
    {
     "data": {
      "text/plain": [
       "RidgeCV(alphas=(0.1, 1.0, 10.0), cv=None, fit_intercept=True, gcv_mode=None,\n",
       "    normalize=True, scoring=None, store_cv_values=False)"
      ]
     },
     "execution_count": 12,
     "metadata": {},
     "output_type": "execute_result"
    }
   ],
   "source": [
    "%time clf.fit(train_X, train_Y)"
   ]
  },
  {
   "cell_type": "markdown",
   "metadata": {},
   "source": [
    "Build up our result dataset"
   ]
  },
  {
   "cell_type": "code",
   "execution_count": 13,
   "metadata": {
    "collapsed": false
   },
   "outputs": [
    {
     "name": "stdout",
     "output_type": "stream",
     "text": [
      "CPU times: user 343 µs, sys: 62 µs, total: 405 µs\n",
      "Wall time: 352 µs\n"
     ]
    }
   ],
   "source": [
    "%time _predictions = clf.predict(test_X)\n",
    "predictions = pd.Series(data=_predictions, index=test_X.index, name='predicted_value')\n",
    "\n",
    "# Build scored dataset\n",
    "results_test = test_X.join(predictions, how='left')\n",
    "results_test = results_test.join(test['__target__'], how='left')\n",
    "results_test = results_test.rename(columns= {'__target__': 'actual'})"
   ]
  },
  {
   "cell_type": "markdown",
   "metadata": {},
   "source": [
    "#### Results"
   ]
  },
  {
   "cell_type": "markdown",
   "metadata": {},
   "source": [
    "You can measure the model's accuracy:"
   ]
  },
  {
   "cell_type": "code",
   "execution_count": 14,
   "metadata": {
    "collapsed": false
   },
   "outputs": [
    {
     "name": "stdout",
     "output_type": "stream",
     "text": [
      "Pearson correlation: 0.999199168636\n"
     ]
    }
   ],
   "source": [
    "c =  results_test[['predicted_value', 'actual']].corr()\n",
    "print 'Pearson correlation: %s' % c['predicted_value'][1]"
   ]
  },
  {
   "cell_type": "markdown",
   "metadata": {},
   "source": [
    "I measure the score of the model over the test sets, as indicated in the Ridge SKLearn manual"
   ]
  },
  {
   "cell_type": "code",
   "execution_count": 17,
   "metadata": {
    "collapsed": false
   },
   "outputs": [
    {
     "name": "stdout",
     "output_type": "stream",
     "text": [
      "Test score: 99.84 %\n"
     ]
    }
   ],
   "source": [
    "score = clf.score(test_X, test_Y)\n",
    "print(\"Test score: {0:.2f} %\".format(100 * score))"
   ]
  },
  {
   "cell_type": "markdown",
   "metadata": {},
   "source": [
    "I dump the model to a pickle file, so that I can use it from the main code."
   ]
  },
  {
   "cell_type": "code",
   "execution_count": 19,
   "metadata": {
    "collapsed": false
   },
   "outputs": [],
   "source": [
    "import pickle\n",
    "pkl_filename = \"/USers/renero/Documents/SideProjects/SailBoatsFactory/networks/ridge_l2_model.pkl\"  \n",
    "with open(pkl_filename, 'wb') as file: \n",
    "    pickle.dump(clf, file)"
   ]
  },
  {
   "cell_type": "markdown",
   "metadata": {},
   "source": [
    "I check that model still works"
   ]
  },
  {
   "cell_type": "code",
   "execution_count": 21,
   "metadata": {
    "collapsed": false
   },
   "outputs": [
    {
     "name": "stdout",
     "output_type": "stream",
     "text": [
      "Test score: 99.84 %\n"
     ]
    }
   ],
   "source": [
    "pkl_filename = \"/USers/renero/Documents/SideProjects/SailBoatsFactory/networks/ridge_l2_model.pkl\"  \n",
    "with open(pkl_filename, 'rb') as file:  \n",
    "    pickle_model = pickle.load(file)\n",
    "new_score = pickle_model.score(test_X, test_Y)\n",
    "print(\"Test score: {0:.2f} %\".format(100 * new_score))"
   ]
  }
 ],
 "metadata": {
  "kernelspec": {
   "display_name": "Python 2",
   "language": "python",
   "name": "python2"
  },
  "language_info": {
   "codemirror_mode": {
    "name": "ipython",
    "version": 2
   },
   "file_extension": ".py",
   "mimetype": "text/x-python",
   "name": "python",
   "nbconvert_exporter": "python",
   "pygments_lexer": "ipython2",
   "version": "2.7.10"
  },
  "name": "Predicting actual in predictions"
 },
 "nbformat": 4,
 "nbformat_minor": 0
}
