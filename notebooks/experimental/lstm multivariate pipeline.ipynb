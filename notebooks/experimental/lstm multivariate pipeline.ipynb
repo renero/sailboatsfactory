{
 "cells": [
  {
   "cell_type": "markdown",
   "metadata": {},
   "source": [
    "# Experimenting with Multivariate LSTM and indices...\n",
    "\n",
    "I'm reading a datafile with all the REPSOL indices that we were computing using the 9th floor Spark processes. We will try to predict if the vlaue will go 'Up' or 'Down'."
   ]
  },
  {
   "cell_type": "code",
   "execution_count": 3,
   "metadata": {},
   "outputs": [
    {
     "name": "stderr",
     "output_type": "stream",
     "text": [
      "Using TensorFlow backend.\n"
     ]
    }
   ],
   "source": [
    "import numpy\n",
    "import math\n",
    "\n",
    "import matplotlib.pyplot as plt\n",
    "from pandas import read_csv, concat, DataFrame\n",
    "from matplotlib import pyplot\n",
    "from numpy import concatenate\n",
    "\n",
    "from keras.models import Sequential\n",
    "from keras.layers import Dense\n",
    "from keras.layers import LSTM\n",
    "from sklearn.preprocessing import MinMaxScaler\n",
    "from sklearn.metrics import mean_squared_error"
   ]
  },
  {
   "cell_type": "markdown",
   "metadata": {},
   "source": [
    "### Read the input dataset\n",
    "\n",
    "    Input <-  Path\n",
    "    Output -> raw_dataset"
   ]
  },
  {
   "cell_type": "code",
   "execution_count": 4,
   "metadata": {
    "collapsed": true
   },
   "outputs": [],
   "source": [
    "def read_dataset(file_path):\n",
    "    columNames = ['Price','Up or Down','Volume','High','Low','EMA(Price)',\n",
    "                  'Typical','RMF(in M)','MFR','MFR Index','PVI','EMA(PVI)','NVI','EMA(NVI)',\n",
    "                  'OSCP','RMF','MFI','Bollinger Up','Bollinger Down','bollOsc',\n",
    "                  'gainLoss','RSI','Stochastic Osc']\n",
    "    \n",
    "    raw_dataset = read_csv(file_path, header='infer', delimiter=';', usecols=columNames)\n",
    "    # Remove the first column as it contains the value we want to predict\n",
    "    # dataset = raw_dataset.iloc[:, 1:]   \n",
    "    return(raw_dataset)"
   ]
  },
  {
   "cell_type": "markdown",
   "metadata": {},
   "source": [
    "### Plot each separate signal (indice)\n",
    "\n",
    "Uncomment to see 23 nice plots!"
   ]
  },
  {
   "cell_type": "code",
   "execution_count": 5,
   "metadata": {
    "collapsed": true
   },
   "outputs": [],
   "source": [
    "# values = raw_dataset.values\n",
    "# # specify columns to plot\n",
    "# groups = [0,2,3,4,5, 6,7,8,9,10, 11,12,13,14,15, 16,17,18,19,20]\n",
    "# i = 1\n",
    "# # plot each column\n",
    "# pyplot.figure(num=None, figsize=(12, 12), dpi=80, facecolor='w', edgecolor='k')\n",
    "# num_rows = int(len(groups)/2)\n",
    "# num_cols = int(len(groups)/5)\n",
    "# for group in groups:\n",
    "#     pyplot.subplot(num_rows, num_cols, i)\n",
    "#     pyplot.plot(values[:, group])\n",
    "#     pyplot.title(raw_dataset.columns[group], y=0.75, loc='left', fontsize=7)\n",
    "#     i += 1\n",
    "# pyplot.tight_layout()\n",
    "# pyplot.show()"
   ]
  },
  {
   "cell_type": "markdown",
   "metadata": {},
   "source": [
    "### Series-To_Supervised\n",
    "\n",
    "This function is KEY as it produces the array shaped with t-n look-back samples to feed the LSTM"
   ]
  },
  {
   "cell_type": "code",
   "execution_count": 6,
   "metadata": {
    "collapsed": true
   },
   "outputs": [],
   "source": [
    "# convert series to supervised learning\n",
    "def series_to_supervised(data, n_in=1, n_out=1, dropnan=True):\n",
    "    n_vars = 1 if type(data) is list else data.shape[1]\n",
    "    df = DataFrame(data)\n",
    "    cols, names = list(), list()\n",
    "    # input sequence (t-n, ... t-1)\n",
    "    for i in range(n_in, 0, -1):\n",
    "        cols.append(df.shift(i))\n",
    "        names += [('var%d(t-%d)' % (j+1, i)) for j in range(n_vars)]\n",
    "    # forecast sequence (t, t+1, ... t+n)\n",
    "    for i in range(0, n_out):\n",
    "        cols.append(df.shift(-i))\n",
    "        if i == 0:\n",
    "            names += [('var%d(t)' % (j+1)) for j in range(n_vars)]\n",
    "        else:\n",
    "            names += [('var%d(t+%d)' % (j+1, i)) for j in range(n_vars)]\n",
    "    # put it all together\n",
    "    agg = concat(cols, axis=1)\n",
    "    agg.columns = names\n",
    "    # drop rows with NaN values\n",
    "    if dropnan:\n",
    "        agg.dropna(inplace=True)\n",
    "    return agg"
   ]
  },
  {
   "cell_type": "markdown",
   "metadata": {},
   "source": [
    "### Scale > Reframe > Drop\n",
    "\n",
    "Let's make things reproducible. We also convert anything that might not be a float to `float32`. Data in NN is normalized to produce equivalent responses in the different layers. We also do that in this chunk. Then, data is scaled to the range 0..1, reframed according to the syntax in `series-to-supervised` and finally, unuseful columns are removed."
   ]
  },
  {
   "cell_type": "code",
   "execution_count": 7,
   "metadata": {
    "collapsed": true
   },
   "outputs": [],
   "source": [
    "def scale_reframe_drop(raw_dataset):\n",
    "    # Data types conversion\n",
    "    dataset = raw_dataset.astype('float32')\n",
    "\n",
    "    # Scale\n",
    "    # scaled = scaler.fit_transform(dataset)\n",
    "\n",
    "    # Reframe\n",
    "    # reframed = series_to_supervised(scaled, look_back, look_forward)\n",
    "    reframed = series_to_supervised(dataset, look_back, look_forward)\n",
    "\n",
    "    # Drop 'num_features - 1' from the tail of each row, as I only want to keep the first one, \n",
    "    # which will be what I want to predict.\n",
    "    num_features = int(reframed.shape[1] / (look_back + 1))\n",
    "    num_cols = reframed.shape[1]\n",
    "    cols_to_remove = [reframed.columns[col_idx] for col_idx in range(num_cols - num_features + 1, num_cols)]\n",
    "    prepared_dataset = reframed.drop(cols_to_remove, axis=1)\n",
    "    \n",
    "    # Scale\n",
    "    scaled = scaler.fit_transform(prepared_dataset)\n",
    "    df = DataFrame(data=scaled[:,:], index=range(0,scaled.shape[0]), \n",
    "               columns=['var-{:d}'.format(i) for i in range(scaled.shape[1])])\n",
    "\n",
    "    #return prepared_dataset\n",
    "    return df"
   ]
  },
  {
   "cell_type": "markdown",
   "metadata": {
    "inputHidden": false,
    "outputHidden": false
   },
   "source": [
    "### Training & Test\n",
    "\n",
    "Split and reshape the dataset."
   ]
  },
  {
   "cell_type": "code",
   "execution_count": 8,
   "metadata": {
    "collapsed": true
   },
   "outputs": [],
   "source": [
    "def split_train_test(prepared_dataset):\n",
    "    # split into train and test sets\n",
    "    values = prepared_dataset.values\n",
    "    train_size = int(len(values) * training_set_proportion)\n",
    "    train = values[0:train_size, :]\n",
    "    test = values[train_size:, :]\n",
    "    # print(len(train), len(test))\n",
    "    # Split into input and output.\n",
    "    train_X, train_y = train[:, :-1], train[:, -1]\n",
    "    test_X, test_y = test[:, :-1], test[:, -1]\n",
    "    # print('Training shapes.....: X=',train_X.shape, ', y=',train_y.shape, sep='')\n",
    "    # print('Test shapes.........: X=',test_X.shape, ', y=',test_y.shape, sep='')\n",
    "    \n",
    "    # reshape input to be [samples, time steps, features]\n",
    "    train_X = train_X.reshape((train_X.shape[0], 1, train_X.shape[1]))\n",
    "    # print('Training reshaped to: X=', train_X.shape, ', y=', train_y.shape, sep='')\n",
    "    test_X = test_X.reshape((test_X.shape[0], 1, test_X.shape[1])) \n",
    "    # print('Test reshaped to....: X=', test_X.shape,  ', y=', test_y.shape, sep='')\n",
    "    return (train_X, train_y, test_X, test_y)"
   ]
  },
  {
   "cell_type": "markdown",
   "metadata": {},
   "source": [
    "## Train the LSTM !\n",
    "Define the LSTM parameters, and train it."
   ]
  },
  {
   "cell_type": "code",
   "execution_count": 9,
   "metadata": {
    "collapsed": true
   },
   "outputs": [],
   "source": [
    "def train_model(train_X, train_y, test_X, test_y):\n",
    "    # create and fit the LSTM network\n",
    "    model = Sequential()\n",
    "    model.add(LSTM(neurons, input_shape=(train_X.shape[1], train_X.shape[2])))\n",
    "    model.add(Dense(1))\n",
    "    model.compile(loss='mae', optimizer='adam')\n",
    "    history = model.fit(train_X, train_y, epochs=num_epochs, batch_size=1, validation_data=(test_X, test_y), \n",
    "                        verbose=keras_verbose_level, shuffle=False)\n",
    "    return model, history\n",
    "\n",
    "def plot_model_training(history):\n",
    "    pyplot.plot(history.history['loss'], label='train')\n",
    "    pyplot.plot(history.history['val_loss'], label='test')\n",
    "    pyplot.legend()\n",
    "    pyplot.show()    "
   ]
  },
  {
   "cell_type": "markdown",
   "metadata": {},
   "source": [
    "### Compute the error\n",
    "\n",
    "Compute the error (RMSE) for training and test. Previously, the examples suggest to invert the results from prediction to use the same units than in the source data."
   ]
  },
  {
   "cell_type": "code",
   "execution_count": 10,
   "metadata": {
    "collapsed": true
   },
   "outputs": [],
   "source": [
    "def compute_error(model, test_X, test_y):\n",
    "    # make a prediction\n",
    "    yhat = model.predict(test_X)\n",
    "    test_X_reshaped = test_X.reshape((test_X.shape[0], test_X.shape[2]))\n",
    "    \n",
    "    # invert scaling the prediction to the original values, for forecast\n",
    "    inv_yhat = concatenate((yhat, test_X_reshaped[:, 0:]), axis=1)\n",
    "    inv_yhat = scaler.inverse_transform(inv_yhat)\n",
    "    inv_yhat = inv_yhat[:,0]\n",
    "    \n",
    "    # invert scaling the actual test set, for actual values and compare results.\n",
    "    test_y_reshaped = test_y.reshape((len(test_y), 1))\n",
    "    inv_y = concatenate((test_y_reshaped, test_X_reshaped[:, 0:]), axis=1)\n",
    "    inv_y = scaler.inverse_transform(inv_y)\n",
    "    inv_y = inv_y[:,0]\n",
    "    \n",
    "    # calculate RMSE\n",
    "    rmse = math.sqrt(mean_squared_error(inv_y, inv_yhat))\n",
    "    # print('Test RMSE: %.3f' % rmse)\n",
    "    return inv_y, inv_yhat, rmse"
   ]
  },
  {
   "cell_type": "markdown",
   "metadata": {},
   "source": [
    "### Plot actual values and predicted values.\n",
    "\n",
    "Plot the whoel series, and the predicted values for the test set."
   ]
  },
  {
   "cell_type": "code",
   "execution_count": 25,
   "metadata": {
    "collapsed": true,
    "inputHidden": false,
    "outputHidden": false
   },
   "outputs": [],
   "source": [
    "def plot_prediction(raw_dataset, train_X, inv_y, inv_yhat):\n",
    "    # Invert original training set to original values for plotting.\n",
    "    train_X_reshaped = train_X.reshape((train_X.shape[0], train_X.shape[2]))\n",
    "    add_col = train_X_reshaped[:,0]\n",
    "    add_col = add_col.reshape((add_col.shape[0], 1))\n",
    "    train_X_reshaped = concatenate((train_X_reshaped, add_col), axis=1)\n",
    "    inv_trainX = scaler.inverse_transform(train_X_reshaped)[:, :-1]\n",
    "    \n",
    "    # Plot\n",
    "    plt.figure(num=None, figsize=(12, 8), dpi=80, facecolor='w', edgecolor='k')\n",
    "    plt.ylim((17.5,20))\n",
    "    plt.xlim((205,235))\n",
    "    original_values = raw_dataset.values[:, 0]\n",
    "    \n",
    "    train_values = numpy.empty_like(original_values)\n",
    "    train_values[:] = numpy.nan\n",
    "    train_values[0:len(inv_trainX)] = inv_trainX[:, 0]\n",
    "    \n",
    "    test_values = numpy.empty_like(original_values)\n",
    "    test_values[:] = numpy.nan\n",
    "    test_values[-(len(inv_y)):] = inv_y\n",
    "    \n",
    "    predicted_values = numpy.empty_like(original_values)\n",
    "    predicted_values[:] = numpy.nan\n",
    "    predicted_values[-(len(inv_yhat)):] = inv_yhat\n",
    "    \n",
    "    #pyplot.plot(original_values)\n",
    "    actual_plot = plt.plot(train_values)\n",
    "    test_plot = plt.plot(test_values, marker='o')\n",
    "    plt.setp(test_plot, color='g', linewidth=3.0)\n",
    "    prediction_plot = plt.plot(predicted_values, marker='o')\n",
    "    \n",
    "    plt.setp(prediction_plot, color='r', linewidth=1.0)\n",
    "    plt.show()"
   ]
  },
  {
   "cell_type": "markdown",
   "metadata": {},
   "source": [
    "### Parameters\n",
    "\n",
    "Set here all the pipeline parameters and the main pipeline function."
   ]
  },
  {
   "cell_type": "code",
   "execution_count": 40,
   "metadata": {
    "inputHidden": false,
    "outputHidden": false
   },
   "outputs": [],
   "source": [
    "num_epochs = 25\n",
    "look_back = 7\n",
    "look_forward = 1\n",
    "training_set_proportion = 0.9\n",
    "neurons = 46\n",
    "numpy.random.seed(2)\n",
    "file_path = '~/Documents/SideProjects/X/indices_calculados_sinfecha.csv'\n",
    "scaler = MinMaxScaler(feature_range=(0, 1))\n",
    "keras_verbose_level = 0\n",
    "\n",
    "def run_pipeline():\n",
    "    raw_dataset = read_dataset(file_path)\n",
    "    prepared_dataset = scale_reframe_drop(raw_dataset)\n",
    "    train_X, train_y, test_X, test_y = split_train_test(prepared_dataset)\n",
    "    model, history = train_model(train_X, train_y, test_X, test_y)\n",
    "    inv_y, inv_yhat, rmse = compute_error(model, test_X, test_y)\n",
    "    print(' {:7d} | {:6d} | {:9d} | {:.03f}'.format(neurons, num_epochs, look_back, rmse))\n",
    "    plot_prediction(raw_dataset, train_X, inv_y, inv_yhat)"
   ]
  },
  {
   "cell_type": "code",
   "execution_count": 41,
   "metadata": {
    "inputHidden": false,
    "outputHidden": false
   },
   "outputs": [
    {
     "name": "stdout",
     "output_type": "stream",
     "text": [
      "      46 |     25 |         7 | 0.207\n"
     ]
    },
    {
     "data": {
      "image/png": "[encoded data removed]",
      "text/plain": [
       "<matplotlib.figure.Figure at 0x129cc2e10>"
      ]
     },
     "metadata": {},
     "output_type": "display_data"
    }
   ],
   "source": [
    "# Run with the best results got below.\n",
    "run_pipeline()"
   ]
  },
  {
   "cell_type": "markdown",
   "metadata": {
    "inputHidden": false,
    "outputHidden": false
   },
   "source": [
    "# TESTING\n",
    "\n",
    "The results obtained were:\n",
    "\n",
    "     neurons | epochs | look_back | RMSE\n",
    "    ---------|--------|-----------|-------\n",
    "          46 |     25 |         1 | 0.169\n",
    "          46 |     25 |         2 | 0.189\n",
    "          46 |     50 |         1 | 0.170\n",
    "          46 |     50 |         2 | 0.178\n",
    "          46 |     75 |         1 | 0.165\n",
    "          46 |     75 |         2 | 0.289\n",
    "          46 |    100 |         1 | 0.301\n",
    "          46 |    100 |         2 | 0.346\n",
    "          92 |     25 |         1 | 0.176\n",
    "          92 |     25 |         2 | 0.221\n",
    "          92 |     50 |         1 | 0.163\n",
    "          92 |     50 |         2 | 0.180\n",
    "          92 |     75 |         1 | 0.235\n",
    "          92 |     75 |         2 | 0.174\n",
    "          92 |    100 |         1 | 0.264\n",
    "          92 |    100 |         2 | 0.245\n",
    "          "
   ]
  },
  {
   "cell_type": "code",
   "execution_count": 11,
   "metadata": {
    "inputHidden": false,
    "outputHidden": false
   },
   "outputs": [
    {
     "name": "stdout",
     "output_type": "stream",
     "text": [
      " neurons | epochs | look_back | RMSE\n",
      "---------|--------|-----------|-------\n",
      "      46 |     25 |         1 | 0.169\n",
      "      46 |     25 |         2 | 0.189\n",
      "      46 |     50 |         1 | 0.170\n",
      "      46 |     50 |         2 | 0.178\n",
      "      46 |     75 |         1 | 0.165\n",
      "      46 |     75 |         2 | 0.289\n",
      "      46 |    100 |         1 | 0.301\n",
      "      46 |    100 |         2 | 0.346\n",
      "      92 |     25 |         1 | 0.176\n",
      "      92 |     25 |         2 | 0.221\n",
      "      92 |     50 |         1 | 0.163\n",
      "      92 |     50 |         2 | 0.180\n",
      "      92 |     75 |         1 | 0.235\n",
      "      92 |     75 |         2 | 0.174\n",
      "      92 |    100 |         1 | 0.264\n",
      "      92 |    100 |         2 | 0.245\n"
     ]
    }
   ],
   "source": [
    "print(' neurons | epochs | look_back | RMSE')\n",
    "print('---------|--------|-----------|-------')\n",
    "for neurons in [46,92]:\n",
    "    for num_epochs in [25, 50, 75, 100]:\n",
    "        for look_back in [1, 2]:\n",
    "            run_pipeline()"
   ]
  }
 ],
 "metadata": {
  "kernel_info": {
   "name": "python3"
  },
  "kernelspec": {
   "display_name": "Python 3",
   "language": "python",
   "name": "python3"
  },
  "language_info": {
   "codemirror_mode": {
    "name": "ipython",
    "version": 3
   },
   "file_extension": ".py",
   "mimetype": "text/x-python",
   "name": "python",
   "nbconvert_exporter": "python",
   "pygments_lexer": "ipython3",
   "version": "3.5.3"
  },
  "nteract": {
   "version": "0.4.3"
  }
 },
 "nbformat": 4,
 "nbformat_minor": 2
}
