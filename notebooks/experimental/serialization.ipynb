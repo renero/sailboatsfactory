{
  "cells": [
    {
      "cell_type": "code",
      "source": [
        "%run \"/Users/renero/Documents/SideProjects/sailboatsfactory/notebooks/experimental/data.py\""
      ],
      "outputs": [],
      "execution_count": 1,
      "metadata": {
        "collapsed": false,
        "outputHidden": false,
        "inputHidden": false
      }
    },
    {
      "cell_type": "code",
      "source": [
        "import pandas\n",
        "raw = read_csv('/Users/renero/Documents/SideProjects/sailboatsfactory/data/ibex_hourly_1y_rounded.csv', delimiter='|')"
      ],
      "outputs": [],
      "execution_count": 7,
      "metadata": {
        "collapsed": false,
        "outputHidden": false,
        "inputHidden": false
      }
    },
    {
      "cell_type": "code",
      "source": [
        "df = raw.iloc[:5,0:5]\n",
        "df"
      ],
      "outputs": [
        {
          "output_type": "execute_result",
          "execution_count": 8,
          "data": {
            "text/html": [
              "<div>\n",
              "<style>\n",
              "    .dataframe thead tr:only-child th {\n",
              "        text-align: right;\n",
              "    }\n",
              "\n",
              "    .dataframe thead th {\n",
              "        text-align: left;\n",
              "    }\n",
              "\n",
              "    .dataframe tbody tr th {\n",
              "        vertical-align: top;\n",
              "    }\n",
              "</style>\n",
              "<table border=\"1\" class=\"dataframe\">\n",
              "  <thead>\n",
              "    <tr style=\"text-align: right;\">\n",
              "      <th></th>\n",
              "      <th>tickcloseprice</th>\n",
              "      <th>tickopenprice</th>\n",
              "      <th>tickminprice</th>\n",
              "      <th>tickmaxprice</th>\n",
              "      <th>tickvolume</th>\n",
              "    </tr>\n",
              "  </thead>\n",
              "  <tbody>\n",
              "    <tr>\n",
              "      <th>0</th>\n",
              "      <td>9378.9</td>\n",
              "      <td>9332.1</td>\n",
              "      <td>9319.3</td>\n",
              "      <td>9385.9</td>\n",
              "      <td>1.435790e+11</td>\n",
              "    </tr>\n",
              "    <tr>\n",
              "      <th>1</th>\n",
              "      <td>9393.0</td>\n",
              "      <td>9387.7</td>\n",
              "      <td>9376.7</td>\n",
              "      <td>9400.8</td>\n",
              "      <td>1.182549e+11</td>\n",
              "    </tr>\n",
              "    <tr>\n",
              "      <th>2</th>\n",
              "      <td>9395.2</td>\n",
              "      <td>9393.0</td>\n",
              "      <td>9392.7</td>\n",
              "      <td>9403.3</td>\n",
              "      <td>9.370469e+10</td>\n",
              "    </tr>\n",
              "    <tr>\n",
              "      <th>3</th>\n",
              "      <td>9398.4</td>\n",
              "      <td>9395.0</td>\n",
              "      <td>9388.8</td>\n",
              "      <td>9399.9</td>\n",
              "      <td>5.912177e+10</td>\n",
              "    </tr>\n",
              "    <tr>\n",
              "      <th>4</th>\n",
              "      <td>9401.0</td>\n",
              "      <td>9398.4</td>\n",
              "      <td>9396.8</td>\n",
              "      <td>9403.7</td>\n",
              "      <td>5.246542e+10</td>\n",
              "    </tr>\n",
              "  </tbody>\n",
              "</table>\n",
              "</div>"
            ],
            "text/plain": [
              "   tickcloseprice  tickopenprice  tickminprice  tickmaxprice    tickvolume\n",
              "0          9378.9         9332.1        9319.3        9385.9  1.435790e+11\n",
              "1          9393.0         9387.7        9376.7        9400.8  1.182549e+11\n",
              "2          9395.2         9393.0        9392.7        9403.3  9.370469e+10\n",
              "3          9398.4         9395.0        9388.8        9399.9  5.912177e+10\n",
              "4          9401.0         9398.4        9396.8        9403.7  5.246542e+10"
            ]
          },
          "metadata": {}
        }
      ],
      "execution_count": 8,
      "metadata": {
        "collapsed": false,
        "outputHidden": false,
        "inputHidden": false
      }
    },
    {
      "cell_type": "code",
      "source": [
        "schema = {\n",
        "    \"doc\":\"A list of stock values\",\n",
        "    \"name\":\"records\",\n",
        "    \"namespace\":\"test\",\n",
        "    \"type\":\"record\",\n",
        "    \"json_version\":\"0.1.0\",\n",
        "    \"pandas_version\":\"0.20.0\",\n",
        "    \"fields\":[\n",
        "        {\"name\":\"tickcloseprice\",\"type\":\"float\"},\n",
        "        {\"name\":\"tickopenprice\",\"type\":\"float\"},\n",
        "        {\"name\":\"tickminprice\",\"type\":\"float\"},\n",
        "        {\"name\":\"tickmaxprice\",\"type\":\"float\"},\n",
        "        {\"name\":\"tickvolume\",\"type\":\"float\"},\n",
        "        {\"name\":\"awesome\",\"type\":\"float\"},\n",
        "        {\"name\":\"macd\",\"type\":\"float\"},\n",
        "        {\"name\":\"rsi\",\"type\":\"float\"},\n",
        "        {\"name\":\"exponentialmovingaverage\",\"type\":\"float\"},\n",
        "        {\"name\":\"moneyflowindicator\",\"type\":\"float\"},\n",
        "        {\"name\":\"bollingermid\",\"type\":\"float\"},\n",
        "        {\"name\":\"bollingerlow\",\"type\":\"float\"},\n",
        "        {\"name\":\"bollingerupper\",\"type\":\"float\"},\n",
        "        {\"name\":\"stochastick\",\"type\":\"float\"},\n",
        "        {\"name\":\"stochasticd\",\"type\":\"float\"},\n",
        "        {\"name\":\"stochasticrsi\",\"type\":\"float\"},\n",
        "        {\"name\":\"positivevolumeindex\",\"type\":\"float\"},\n",
        "        {\"name\":\"negativevolumeindex\",\"type\":\"float\"},\n",
        "        {\"name\":\"volumeweightedaverageprice\",\"type\":\"float\"},\n",
        "        {\"name\":\"dailytime\",\"type\":\"float\"},\n",
        "        {\"name\":\"weeklytime\",\"type\":\"float\"},\n",
        "        {\"name\":\"monthlytime\",\"type\":\"float\"}\n",
        "    ],\n",
        "}"
      ],
      "outputs": [],
      "execution_count": 9,
      "metadata": {
        "collapsed": false,
        "outputHidden": false,
        "inputHidden": false
      }
    },
    {
      "cell_type": "markdown",
      "source": [
        "# This is the actual JSON request\n",
        "\nI must be able to read this json request."
      ],
      "metadata": {}
    },
    {
      "cell_type": "code",
      "source": [
        "json_request = {\n",
        "    \"doc\":\"A list of stock values\",\n",
        "    \"name\":\"records\",\n",
        "    \"namespace\":\"test\",\n",
        "    \"type\":\"record\",\n",
        "    \"json_version\":\"0.1.0\",\n",
        "    \"pandas_version\":\"0.20.0\",\n",
        "    \"fields\":[\n",
        "    \t{\n",
        "\t    \t\"tickcloseprice\":9378.90,\n",
        "\t        \"tickopenprice\":9332.10,\n",
        "\t        \"tickminprice\":9319.30,\n",
        "\t        \"tickmaxprice\":9385.90,\n",
        "\t        \"tickvolume\":143579006939.00,\n",
        "\t        \"awesome\":0.00,\n",
        "\t        \"macd\":0.00,\n",
        "\t        \"rsi\":0.00,\n",
        "\t        \"exponentialmovingaverage\":0.00,\n",
        "\t        \"moneyflowindicator\":9378.90,\n",
        "\t        \"bollingermid\":0.00,\n",
        "\t        \"bollingerlow\":0.00,\n",
        "\t        \"bollingerupper\":9378.90,\n",
        "\t        \"stochastick\":9389.90,\n",
        "\t        \"stochasticd\":9378.90,\n",
        "\t        \"stochasticrsi\":89.49,\n",
        "\t        \"positivevolumeindex\":1000.0,\n",
        "\t        \"negativevolumeindex\":1000.0,\n",
        "\t        \"volumeweightedaverageprice\":9361.37,\n",
        "\t        \"dailytime\":0.42,\n",
        "\t        \"weeklytime\":0.06,\n",
        "\t        \"monthlytime\":0.05\n",
        "    \t}\n",
        "    ]\n",
        "}"
      ],
      "outputs": [],
      "execution_count": 12,
      "metadata": {
        "collapsed": false,
        "outputHidden": false,
        "inputHidden": false
      }
    },
    {
      "cell_type": "code",
      "source": [
        "# pandas.read_json(json_request, orient='list', typ='series', dtype=True)\n",
        "pandas.DataFrame(json_request['fields'])"
      ],
      "outputs": [
        {
          "output_type": "execute_result",
          "execution_count": 22,
          "data": {
            "text/html": [
              "<div>\n",
              "<style>\n",
              "    .dataframe thead tr:only-child th {\n",
              "        text-align: right;\n",
              "    }\n",
              "\n",
              "    .dataframe thead th {\n",
              "        text-align: left;\n",
              "    }\n",
              "\n",
              "    .dataframe tbody tr th {\n",
              "        vertical-align: top;\n",
              "    }\n",
              "</style>\n",
              "<table border=\"1\" class=\"dataframe\">\n",
              "  <thead>\n",
              "    <tr style=\"text-align: right;\">\n",
              "      <th></th>\n",
              "      <th>awesome</th>\n",
              "      <th>bollingerlow</th>\n",
              "      <th>bollingermid</th>\n",
              "      <th>bollingerupper</th>\n",
              "      <th>dailytime</th>\n",
              "      <th>exponentialmovingaverage</th>\n",
              "      <th>macd</th>\n",
              "      <th>moneyflowindicator</th>\n",
              "      <th>monthlytime</th>\n",
              "      <th>negativevolumeindex</th>\n",
              "      <th>...</th>\n",
              "      <th>stochasticd</th>\n",
              "      <th>stochastick</th>\n",
              "      <th>stochasticrsi</th>\n",
              "      <th>tickcloseprice</th>\n",
              "      <th>tickmaxprice</th>\n",
              "      <th>tickminprice</th>\n",
              "      <th>tickopenprice</th>\n",
              "      <th>tickvolume</th>\n",
              "      <th>volumeweightedaverageprice</th>\n",
              "      <th>weeklytime</th>\n",
              "    </tr>\n",
              "  </thead>\n",
              "  <tbody>\n",
              "    <tr>\n",
              "      <th>0</th>\n",
              "      <td>0.0</td>\n",
              "      <td>0.0</td>\n",
              "      <td>0.0</td>\n",
              "      <td>9378.9</td>\n",
              "      <td>0.42</td>\n",
              "      <td>0.0</td>\n",
              "      <td>0.0</td>\n",
              "      <td>9378.9</td>\n",
              "      <td>0.05</td>\n",
              "      <td>1000.0</td>\n",
              "      <td>...</td>\n",
              "      <td>9378.9</td>\n",
              "      <td>9389.9</td>\n",
              "      <td>89.49</td>\n",
              "      <td>9378.9</td>\n",
              "      <td>9385.9</td>\n",
              "      <td>9319.3</td>\n",
              "      <td>9332.1</td>\n",
              "      <td>1.435790e+11</td>\n",
              "      <td>9361.37</td>\n",
              "      <td>0.06</td>\n",
              "    </tr>\n",
              "  </tbody>\n",
              "</table>\n",
              "<p>1 rows × 22 columns</p>\n",
              "</div>"
            ],
            "text/plain": [
              "   awesome  bollingerlow  bollingermid  bollingerupper  dailytime  \\\n",
              "0      0.0           0.0           0.0          9378.9       0.42   \n",
              "\n",
              "   exponentialmovingaverage  macd  moneyflowindicator  monthlytime  \\\n",
              "0                       0.0   0.0              9378.9         0.05   \n",
              "\n",
              "   negativevolumeindex     ...      stochasticd  stochastick  stochasticrsi  \\\n",
              "0               1000.0     ...           9378.9       9389.9          89.49   \n",
              "\n",
              "   tickcloseprice  tickmaxprice  tickminprice  tickopenprice    tickvolume  \\\n",
              "0          9378.9        9385.9        9319.3         9332.1  1.435790e+11   \n",
              "\n",
              "   volumeweightedaverageprice  weeklytime  \n",
              "0                     9361.37        0.06  \n",
              "\n[1 rows x 22 columns]"
            ]
          },
          "metadata": {}
        }
      ],
      "execution_count": 22,
      "metadata": {
        "collapsed": false,
        "outputHidden": false,
        "inputHidden": false
      }
    },
    {
      "cell_type": "code",
      "source": [
        "records = df.to_json(orient='records')\n",
        "records"
      ],
      "outputs": [
        {
          "output_type": "execute_result",
          "execution_count": 10,
          "data": {
            "text/plain": [
              "'[{\"tickcloseprice\":9378.9,\"tickopenprice\":9332.1,\"tickminprice\":9319.3,\"tickmaxprice\":9385.9,\"tickvolume\":143579006939.0},{\"tickcloseprice\":9393.0,\"tickopenprice\":9387.7,\"tickminprice\":9376.7,\"tickmaxprice\":9400.8,\"tickvolume\":118254944950.0},{\"tickcloseprice\":9395.2,\"tickopenprice\":9393.0,\"tickminprice\":9392.7,\"tickmaxprice\":9403.3,\"tickvolume\":93704691528.0},{\"tickcloseprice\":9398.4,\"tickopenprice\":9395.0,\"tickminprice\":9388.8,\"tickmaxprice\":9399.9,\"tickvolume\":59121773171.0},{\"tickcloseprice\":9401.0,\"tickopenprice\":9398.4,\"tickminprice\":9396.8,\"tickmaxprice\":9403.7,\"tickvolume\":52465422369.0}]'"
            ]
          },
          "metadata": {}
        }
      ],
      "execution_count": 10,
      "metadata": {
        "collapsed": false,
        "outputHidden": false,
        "inputHidden": false
      }
    },
    {
      "cell_type": "code",
      "source": [
        "original_df = pandas.read_json(records, orient='records')\n",
        "original_df"
      ],
      "outputs": [
        {
          "output_type": "execute_result",
          "execution_count": 11,
          "data": {
            "text/html": [
              "<div>\n",
              "<style>\n",
              "    .dataframe thead tr:only-child th {\n",
              "        text-align: right;\n",
              "    }\n",
              "\n",
              "    .dataframe thead th {\n",
              "        text-align: left;\n",
              "    }\n",
              "\n",
              "    .dataframe tbody tr th {\n",
              "        vertical-align: top;\n",
              "    }\n",
              "</style>\n",
              "<table border=\"1\" class=\"dataframe\">\n",
              "  <thead>\n",
              "    <tr style=\"text-align: right;\">\n",
              "      <th></th>\n",
              "      <th>tickcloseprice</th>\n",
              "      <th>tickmaxprice</th>\n",
              "      <th>tickminprice</th>\n",
              "      <th>tickopenprice</th>\n",
              "      <th>tickvolume</th>\n",
              "    </tr>\n",
              "  </thead>\n",
              "  <tbody>\n",
              "    <tr>\n",
              "      <th>0</th>\n",
              "      <td>9378.9</td>\n",
              "      <td>9385.9</td>\n",
              "      <td>9319.3</td>\n",
              "      <td>9332.1</td>\n",
              "      <td>143579006939</td>\n",
              "    </tr>\n",
              "    <tr>\n",
              "      <th>1</th>\n",
              "      <td>9393.0</td>\n",
              "      <td>9400.8</td>\n",
              "      <td>9376.7</td>\n",
              "      <td>9387.7</td>\n",
              "      <td>118254944950</td>\n",
              "    </tr>\n",
              "    <tr>\n",
              "      <th>2</th>\n",
              "      <td>9395.2</td>\n",
              "      <td>9403.3</td>\n",
              "      <td>9392.7</td>\n",
              "      <td>9393.0</td>\n",
              "      <td>93704691528</td>\n",
              "    </tr>\n",
              "    <tr>\n",
              "      <th>3</th>\n",
              "      <td>9398.4</td>\n",
              "      <td>9399.9</td>\n",
              "      <td>9388.8</td>\n",
              "      <td>9395.0</td>\n",
              "      <td>59121773171</td>\n",
              "    </tr>\n",
              "    <tr>\n",
              "      <th>4</th>\n",
              "      <td>9401.0</td>\n",
              "      <td>9403.7</td>\n",
              "      <td>9396.8</td>\n",
              "      <td>9398.4</td>\n",
              "      <td>52465422369</td>\n",
              "    </tr>\n",
              "  </tbody>\n",
              "</table>\n",
              "</div>"
            ],
            "text/plain": [
              "   tickcloseprice  tickmaxprice  tickminprice  tickopenprice    tickvolume\n",
              "0          9378.9        9385.9        9319.3         9332.1  143579006939\n",
              "1          9393.0        9400.8        9376.7         9387.7  118254944950\n",
              "2          9395.2        9403.3        9392.7         9393.0   93704691528\n",
              "3          9398.4        9399.9        9388.8         9395.0   59121773171\n",
              "4          9401.0        9403.7        9396.8         9398.4   52465422369"
            ]
          },
          "metadata": {}
        }
      ],
      "execution_count": 11,
      "metadata": {
        "collapsed": false,
        "outputHidden": false,
        "inputHidden": false
      }
    },
    {
      "cell_type": "code",
      "source": [],
      "outputs": [],
      "execution_count": null,
      "metadata": {
        "collapsed": false,
        "outputHidden": false,
        "inputHidden": false
      }
    }
  ],
  "metadata": {
    "kernelspec": {
      "name": "python3",
      "language": "python",
      "display_name": "Python 3"
    },
    "kernel_info": {
      "name": "python3"
    },
    "language_info": {
      "mimetype": "text/x-python",
      "name": "python",
      "pygments_lexer": "ipython3",
      "file_extension": ".py",
      "version": "3.5.3",
      "nbconvert_exporter": "python",
      "codemirror_mode": {
        "name": "ipython",
        "version": 3
      }
    },
    "nteract": {
      "version": "0.5.5"
    }
  },
  "nbformat": 4,
  "nbformat_minor": 4
}