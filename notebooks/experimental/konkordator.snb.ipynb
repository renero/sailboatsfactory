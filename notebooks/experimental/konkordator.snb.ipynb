{
  "metadata" : {
    "id" : "cc7e0ed8-5b85-44c8-9f20-e92258fb7e97",
    "name" : "konkordator",
    "user_save_timestamp" : "1970-01-01T01:00:00.000Z",
    "auto_save_timestamp" : "1970-01-01T01:00:00.000Z",
    "language_info" : {
      "name" : "scala",
      "file_extension" : "scala",
      "codemirror_mode" : "text/x-scala"
    },
    "trusted" : true,
    "sparkNotebook" : null,
    "customLocalRepo" : null,
    "customRepos" : null,
    "customDeps" : [
      "com.github.nscala-time:nscala-time:2.18.0",
      "org.apache.spark:spark-core:1.3.0"
    ],
    "customImports" : null,
    "customArgs" : null,
    "customSparkConf" : null,
    "customVars" : null
  },
  "cells" : [
    {
      "metadata" : {
        "trusted" : true,
        "input_collapsed" : false,
        "collapsed" : false,
        "id" : "26DB97D050514F9C89CFC896A5FD2FD0"
      },
      "cell_type" : "code",
      "source" : [
        "import com.github.nscala_time.time.Imports._\n",
        "import org.apache.spark.SparkContext\n",
        "import org.apache.spark.rdd.RDD"
      ],
      "outputs" : [
        {
          "name" : "stdout",
          "output_type" : "stream",
          "text" : "import com.github.nscala_time.time.Imports._\nimport org.apache.spark.SparkContext\nimport org.apache.spark.rdd.RDD\n"
        },
        {
          "metadata" : { },
          "data" : {
            "text/html" : ""
          },
          "output_type" : "execute_result",
          "execution_count" : 1,
          "time" : "Took: 0.927s, at 2017-12-15 15:21"
        }
      ]
    },
    {
      "metadata" : {
        "trusted" : true,
        "input_collapsed" : false,
        "collapsed" : false,
        "id" : "5E371B047CA344A68775DE5B932BA7B2"
      },
      "cell_type" : "code",
      "source" : [
        "import com.github.nscala_time.time.Imports._\n",
        "\n",
        "case class Tick(date: LocalDate, time: LocalTime, price: Double, volume: Double)\n",
        "\n",
        "object Tick {\n",
        "\n",
        "  private val Delimiter = ','\n",
        "\n",
        "  def readCsv(line: String): Tick = {\n",
        "    val Array(dateAndTime, price, volume) = line.split(Delimiter)\n",
        "    val Array(date, time) = dateAndTime.split(' ')\n",
        "    Tick(\n",
        "      date = DateTimeFormat.forPattern(\"yyyy-MM-dd\").parseDateTime(date).toLocalDate,\n",
        "      time = DateTimeFormat.forPattern(\"HH:mm:ss\").parseDateTime(time).toLocalTime,\n",
        "      price = price.toDouble,\n",
        "      volume = volume.toDouble\n",
        "    )\n",
        "  }\n",
        "}"
      ],
      "outputs" : [
        {
          "name" : "stdout",
          "output_type" : "stream",
          "text" : "import com.github.nscala_time.time.Imports._\ndefined class Tick\ndefined object Tick\n"
        },
        {
          "metadata" : { },
          "data" : {
            "text/html" : ""
          },
          "output_type" : "execute_result",
          "execution_count" : 5,
          "time" : "Took: 0.794s, at 2017-12-15 15:26"
        }
      ]
    },
    {
      "metadata" : {
        "trusted" : true,
        "input_collapsed" : false,
        "collapsed" : false,
        "id" : "E104D81C75924F95BA2D1AA58641390E"
      },
      "cell_type" : "code",
      "source" : [
        "val path = \"/Users/jrenero/Documents/SideProjects/sailboatsfactory/data/ibex_20170703_20170929.csv\"\n",
        "val ticks = sc.textFile(path).map(Tick.readCsv)"
      ],
      "outputs" : [
        {
          "name" : "stdout",
          "output_type" : "stream",
          "text" : "path: String = /Users/jrenero/Documents/SideProjects/sailboatsfactory/data/ibex_20170703_20170929.csv\nticks: org.apache.spark.rdd.RDD[Tick] = MapPartitionsRDD[5] at map at <console>:83\n"
        },
        {
          "metadata" : { },
          "data" : {
            "text/html" : ""
          },
          "output_type" : "execute_result",
          "execution_count" : 6,
          "time" : "Took: 0.806s, at 2017-12-15 15:26"
        }
      ]
    },
    {
      "metadata" : {
        "trusted" : true,
        "input_collapsed" : false,
        "collapsed" : false,
        "id" : "94694336CF154BDB9973F6D54C064AD2"
      },
      "cell_type" : "code",
      "source" : [
        "ticks.take(10).foreach(println)"
      ],
      "outputs" : [
        {
          "name" : "stdout",
          "output_type" : "stream",
          "text" : "Tick(2017-07-03,09:00:29.000,10509.3,2322449.0)\nTick(2017-07-03,09:00:34.000,10509.6,2419029.0)\nTick(2017-07-03,09:00:38.000,10506.6,2442927.0)\nTick(2017-07-03,09:00:49.000,10509.0,2475445.0)\nTick(2017-07-03,09:00:53.000,10510.4,2491008.0)\nTick(2017-07-03,09:00:58.000,10508.6,2497077.0)\nTick(2017-07-03,09:01:09.000,10510.9,2574104.0)\nTick(2017-07-03,09:01:14.000,10510.0,2639221.0)\nTick(2017-07-03,09:01:24.000,10509.4,2659926.0)\nTick(2017-07-03,09:01:29.000,10508.8,2664981.0)\n"
        },
        {
          "metadata" : { },
          "data" : {
            "text/html" : ""
          },
          "output_type" : "execute_result",
          "execution_count" : 8,
          "time" : "Took: 0.952s, at 2017-12-15 15:26"
        }
      ]
    },
    {
      "metadata" : {
        "trusted" : true,
        "input_collapsed" : false,
        "collapsed" : true,
        "id" : "E78B9745110A470386CCE6BF408C1469"
      },
      "cell_type" : "code",
      "source" : [
        ""
      ],
      "outputs" : [ ]
    }
  ],
  "nbformat" : 4
}